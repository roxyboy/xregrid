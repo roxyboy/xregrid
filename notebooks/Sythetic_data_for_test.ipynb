{
 "cells": [
  {
   "cell_type": "code",
   "execution_count": 17,
   "metadata": {
    "collapsed": false
   },
   "outputs": [],
   "source": [
    "import xarray as xr\n",
    "import numpy as np\n",
    "import xregrid as xg\n",
    "import pandas as pd\n",
    "\n",
    "import matplotlib.pyplot as plt\n",
    "%matplotlib inline"
   ]
  },
  {
   "cell_type": "code",
   "execution_count": 2,
   "metadata": {
    "collapsed": false
   },
   "outputs": [],
   "source": [
    "x = np.linspace(0., 2*np.pi, 100)\n",
    "y = np.linspace(-10., 10., 50)\n",
    "# y[-1] = np.nan\n",
    "xx, yy = np.meshgrid(x, y)\n",
    "# yx = zip(yy.ravel(), xx.ravel())"
   ]
  },
  {
   "cell_type": "code",
   "execution_count": 3,
   "metadata": {
    "collapsed": true
   },
   "outputs": [],
   "source": [
    "indexx = range(len(x))\n",
    "indexy = range(len(y))"
   ]
  },
  {
   "cell_type": "code",
   "execution_count": 4,
   "metadata": {
    "collapsed": false
   },
   "outputs": [
    {
     "data": {
      "text/plain": [
       "array([[-10.        ,  -9.93657608,  -9.87340755, ..., -10.12659245,\n",
       "        -10.06342392, -10.        ],\n",
       "       [ -9.59183673,  -9.52841282,  -9.46524428, ...,  -9.71842919,\n",
       "         -9.65526065,  -9.59183673],\n",
       "       [ -9.18367347,  -9.12024955,  -9.05708102, ...,  -9.31026592,\n",
       "         -9.24709739,  -9.18367347],\n",
       "       ..., \n",
       "       [  9.18367347,   9.24709739,   9.31026592, ...,   9.05708102,\n",
       "          9.12024955,   9.18367347],\n",
       "       [  9.59183673,   9.65526065,   9.71842919, ...,   9.46524428,\n",
       "          9.52841282,   9.59183673],\n",
       "       [ 10.        ,  10.06342392,  10.12659245, ...,   9.87340755,\n",
       "          9.93657608,  10.        ]])"
      ]
     },
     "execution_count": 4,
     "metadata": {},
     "output_type": "execute_result"
    }
   ],
   "source": [
    "data = np.sin(x) + y[:, np.newaxis]\n",
    "data"
   ]
  },
  {
   "cell_type": "code",
   "execution_count": 5,
   "metadata": {
    "collapsed": false
   },
   "outputs": [
    {
     "data": {
      "text/plain": [
       "<xarray.Dataset>\n",
       "Dimensions:  (nx: 100, ny: 50, time: 1)\n",
       "Coordinates:\n",
       "  * nx       (nx) int64 0 1 2 3 4 5 6 7 8 9 10 11 12 13 14 15 16 17 18 19 20 ...\n",
       "  * ny       (ny) int64 0 1 2 3 4 5 6 7 8 9 10 11 12 13 14 15 16 17 18 19 20 ...\n",
       "    xx       (ny, nx) float64 0.0 0.06347 0.1269 0.1904 0.2539 0.3173 0.3808 ...\n",
       "    yy       (ny, nx) float64 -10.0 -10.0 -10.0 -10.0 -10.0 -10.0 -10.0 ...\n",
       "  * time     (time) int64 0\n",
       "Data variables:\n",
       "    f        (time, ny, nx) float64 -10.0 -9.937 -9.873 -9.811 -9.749 -9.688 ..."
      ]
     },
     "execution_count": 5,
     "metadata": {},
     "output_type": "execute_result"
    }
   ],
   "source": [
    "d2d = xr.DataArray(data[np.newaxis, :, :], dims=['time', 'ny', 'nx'], \n",
    "                                  coords={'time': range(1), 'ny': indexy, 'nx': indexx, \n",
    "                                          'yy': (('ny', 'nx'), yy), 'xx': (('ny', 'nx'), xx)}).to_dataset(name='f')\n",
    "d2d"
   ]
  },
  {
   "cell_type": "code",
   "execution_count": 6,
   "metadata": {
    "collapsed": false
   },
   "outputs": [
    {
     "data": {
      "text/plain": [
       "<matplotlib.collections.QuadMesh at 0x7fb24512e050>"
      ]
     },
     "execution_count": 6,
     "metadata": {},
     "output_type": "execute_result"
    },
    {
     "data": {
      "image/png": "[encoded data removed]",
      "text/plain": [
       "<matplotlib.figure.Figure at 0x7fb24512e250>"
      ]
     },
     "metadata": {},
     "output_type": "display_data"
    }
   ],
   "source": [
    "d2d.f[0].plot(x='xx', y='yy')"
   ]
  },
  {
   "cell_type": "code",
   "execution_count": 7,
   "metadata": {
    "collapsed": false
   },
   "outputs": [
    {
     "data": {
      "text/plain": [
       "<xarray.Dataset>\n",
       "Dimensions:  (time: 1, yyxx: 5000)\n",
       "Coordinates:\n",
       "  * yyxx     (yyxx) object (-10.0, 0.0) (-10.0, 0.063466518254339258) ...\n",
       "  * time     (time) int64 0\n",
       "Data variables:\n",
       "    f        (time, yyxx) float64 -10.0 -9.937 -9.873 -9.811 -9.749 -9.688 ..."
      ]
     },
     "execution_count": 7,
     "metadata": {},
     "output_type": "execute_result"
    }
   ],
   "source": [
    "args = ['time', 'ny', 'nx']\n",
    "d2d_stacked = xg.stack_var(d2d, 'f', 'yy', 'xx', False, False, *args)\n",
    "d2d_stacked"
   ]
  },
  {
   "cell_type": "code",
   "execution_count": 28,
   "metadata": {
    "collapsed": false
   },
   "outputs": [
    {
     "name": "stdout",
     "output_type": "stream",
     "text": [
      "[-10.          -9.93657608  -9.87340755  -9.81074876  -9.74885201\n",
      "  -9.68796655  -9.62833754  -9.57020509  -9.51380326  -9.45935918\n",
      "  -9.40709207  -9.35721239  -9.30992099  -9.26540829  -9.22385354\n",
      "  -9.18542405  -9.15027457  -9.11854664  -9.090368    -9.06585214]\n"
     ]
    }
   ],
   "source": [
    "print(d2d_stacked.f[0].values[:20])"
   ]
  },
  {
   "cell_type": "code",
   "execution_count": 8,
   "metadata": {
    "collapsed": true
   },
   "outputs": [],
   "source": [
    "new_x = np.linspace(x.min(), x.max(), 20)\n",
    "new_y = np.linspace(y.min(), y.max(), 20)\n",
    "new_xx, new_yy = np.meshgrid(new_x, new_y)"
   ]
  },
  {
   "cell_type": "code",
   "execution_count": 9,
   "metadata": {
    "collapsed": false
   },
   "outputs": [],
   "source": [
    "args = ['yyxx', 'time', 'f', 'y', 'x']\n",
    "d2d_regrid = xg.regrid_var(d2d_stacked, new_xx, new_yy, True, False, *args)"
   ]
  },
  {
   "cell_type": "code",
   "execution_count": 10,
   "metadata": {
    "collapsed": false,
    "scrolled": true
   },
   "outputs": [
    {
     "data": {
      "text/plain": [
       "<matplotlib.collections.QuadMesh at 0x7fb24290a990>"
      ]
     },
     "execution_count": 10,
     "metadata": {},
     "output_type": "execute_result"
    },
    {
     "data": {
      "image/png": "[encoded data removed]",
      "text/plain": [
       "<matplotlib.figure.Figure at 0x7fb24511abd0>"
      ]
     },
     "metadata": {},
     "output_type": "display_data"
    }
   ],
   "source": [
    "d2d_regrid.f[0].plot()"
   ]
  },
  {
   "cell_type": "code",
   "execution_count": 20,
   "metadata": {
    "collapsed": false
   },
   "outputs": [],
   "source": [
    "%time?"
   ]
  },
  {
   "cell_type": "code",
   "execution_count": 24,
   "metadata": {
    "collapsed": false
   },
   "outputs": [],
   "source": [
    "%lprun -f xg.regrid_var xg.regrid_var(d2d_stacked, new_xx, new_yy, True, True, *args)"
   ]
  },
  {
   "cell_type": "code",
   "execution_count": 25,
   "metadata": {
    "collapsed": true
   },
   "outputs": [],
   "source": [
    "%lprun -f xg.regrid_var xg.regrid_var(d2d_stacked, new_xx, new_yy, True, False, *args)"
   ]
  },
  {
   "cell_type": "code",
   "execution_count": null,
   "metadata": {
    "collapsed": true
   },
   "outputs": [],
   "source": []
  },
  {
   "cell_type": "code",
   "execution_count": null,
   "metadata": {
    "collapsed": true
   },
   "outputs": [],
   "source": []
  }
 ],
 "metadata": {
  "kernelspec": {
   "display_name": "Python 2.7",
   "language": "python",
   "name": "python2"
  },
  "language_info": {
   "codemirror_mode": {
    "name": "ipython",
    "version": 2
   },
   "file_extension": ".py",
   "mimetype": "text/x-python",
   "name": "python",
   "nbconvert_exporter": "python",
   "pygments_lexer": "ipython2",
   "version": "2.7.11"
  }
 },
 "nbformat": 4,
 "nbformat_minor": 0
}
